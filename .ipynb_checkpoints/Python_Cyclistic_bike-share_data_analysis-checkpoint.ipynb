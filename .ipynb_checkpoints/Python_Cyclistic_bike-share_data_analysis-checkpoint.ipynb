{
 "cells": [
  {
   "cell_type": "markdown",
   "id": "b8fce440-29ba-4172-bc27-877a782bc64f",
   "metadata": {},
   "source": [
    "# README\n",
    "---"
   ]
  },
  {
   "cell_type": "markdown",
   "id": "b7c20512-6af2-4f3a-8358-802c9442e232",
   "metadata": {},
   "source": [
    "## For the reader"
   ]
  },
  {
   "cell_type": "markdown",
   "id": "eebcf328-e612-46a9-b3df-87b476948c87",
   "metadata": {},
   "source": [
    "<h4> Note that the following boxes appear in this notebook: </h4>"
   ]
  },
  {
   "cell_type": "markdown",
   "id": "608eb25f-d5ae-4ced-ad46-351ce06b4731",
   "metadata": {},
   "source": [
    "<div class=\"alert alert-block alert-success\"><b>Green boxes:</b> Comments about results. </div>"
   ]
  },
  {
   "cell_type": "markdown",
   "id": "7e30ee0b-946b-4715-8707-f1498b1b7610",
   "metadata": {},
   "source": [
    "<div class=\"alert alert-block alert-warning\"><b>Yellow boxes:</b> Notes and warnings. </div>"
   ]
  },
  {
   "cell_type": "markdown",
   "id": "965c53ae-78db-43a9-8c36-fdfa745427a5",
   "metadata": {},
   "source": [
    "<div class=\"alert alert-block alert-danger\"><b>Red boxes:</b> Places you need to alter the code if you want to run it for yourself. </div>"
   ]
  },
  {
   "cell_type": "markdown",
   "id": "1fe0d168-8351-4932-8bb0-65a41bd67668",
   "metadata": {},
   "source": [
    "## Brief Overview"
   ]
  },
  {
   "cell_type": "markdown",
   "id": "4276bfb8-73ad-475b-b5ea-cb165604588c",
   "metadata": {},
   "source": [
    "<ul>\n",
    "    <li><a href=\"#importing-necessary-libraries\">1. Importing Necessary Libraries</a></li>\n",
    "    <li><a href=\"#data-import-and-preparation\">2. Data Import and Preparation</a>\n",
    "        <ul>\n",
    "            <li>2.1 Import Data</li>\n",
    "                <ul>\n",
    "                <li>Option 1: Importing Data from SQL</a></li>\n",
    "                <li>Option 2: Importing Data from CSV</a></li>\n",
    "                </ul>\n",
    "            <li>2.2 Setting and Checking Column Data Types</a>\n",
    "                <ul>\n",
    "                    <li>2.3.1 Assigning Data Types</a></li>\n",
    "                    <li>2.3.2 Verifying Data Types</a></li>\n",
    "                </ul>\n",
    "            </li>\n",
    "        </ul>\n",
    "    </li>\n",
    "    <li><a href=\"#exploratory-data-analysis\">3. Exploratory Data Analysis</a>\n",
    "        <ul>\n",
    "            <li><a href=\"#descriptive-statistics\">3.1 Descriptive Statistics</a></li>\n",
    "            <li><a href=\"#data-visualization\">3.2 Data Visualization</a>\n",
    "                <ul>\n",
    "                    <li><a href=\"#about-number-of-rides\">3.2.1 About Number of Rides</a>\n",
    "                        <ul>\n",
    "                            <li>A. Pie Chart: Number of Rides (Members vs Casuals)</a></li>\n",
    "                            <li>B. Weekly Ride Distribution (Members vs Casuals)</a></li>\n",
    "                            <li>C. Monthly Ride Distribution (Members vs Casuals)</a></li>\n",
    "                        </ul>\n",
    "                    </li>\n",
    "                    <li><a href=\"#about-ride-duration\">3.2.2 About Ride Duration</a>\n",
    "                        <ul>\n",
    "                            <li>A. Weekly Ride Duration (Members vs Casuals)</a></li>\n",
    "                            <li>B. Monthly Ride Duration (Members vs Casuals)</a></li>\n",
    "                        </ul>\n",
    "                    </li>\n",
    "                    <li><a href=\"#about-rideable-type\">3.2.3 About Rideable Type</a>\n",
    "                        <ul>\n",
    "                            <li>A. Bar Chart: Rideable Type (Electric vs Classic Bikes)</a></li>\n",
    "                            <li>B. Stacked Bar Chart: Rideable Types for Members vs Casuals</a></li>\n",
    "                        </ul>\n",
    "                    </li>\n",
    "                </ul>\n",
    "            </li>\n",
    "        </ul>\n",
    "    </li>\n",
    "</ul>\n"
   ]
  },
  {
   "cell_type": "markdown",
   "id": "7163eddd-9354-4fe7-8a5d-2d79df336d72",
   "metadata": {},
   "source": [
    "# 1. Importing Necessary Libraries <a id=\"importing-necessary-libraries\"></a>\n",
    "---"
   ]
  },
  {
   "cell_type": "markdown",
   "id": "ff247819-72f1-4989-8eed-1b4613535d7c",
   "metadata": {},
   "source": [
    "# 2. Data Import and Preparation <a id=\"data-import-and-preparation\"></a>\n",
    "---"
   ]
  },
  {
   "cell_type": "markdown",
   "id": "85845f97-4a05-4cca-afca-6092aa231bb8",
   "metadata": {},
   "source": [
    "## 2.1 Import\n",
    "---"
   ]
  },
  {
   "cell_type": "markdown",
   "id": "6ccdf019-ab07-4447-af04-410b1ac5429e",
   "metadata": {},
   "source": [
    "### Option 1: Importing Data from SQL"
   ]
  },
  {
   "cell_type": "markdown",
   "id": "97eb209d-9421-4ed1-8956-e2d27944209a",
   "metadata": {},
   "source": [
    "### Option 2: Importing Data from CSV"
   ]
  },
  {
   "cell_type": "markdown",
   "id": "b0673861-802b-45f1-a5be-c395fe16cb3a",
   "metadata": {},
   "source": [
    "## 2.2 Setting and Checking Column Data Types\n",
    "---"
   ]
  },
  {
   "cell_type": "markdown",
   "id": "86523ae1-27c5-4293-850c-87e5438a1913",
   "metadata": {},
   "source": [
    "### 2.2.1 Assigning Data Types"
   ]
  },
  {
   "cell_type": "markdown",
   "id": "b155c371-2bfd-485f-a162-0a61a602574b",
   "metadata": {},
   "source": [
    "### 2.2.2 Verifying Data Types"
   ]
  },
  {
   "cell_type": "markdown",
   "id": "9d7a055c-9c03-472b-9170-f28b39409f69",
   "metadata": {},
   "source": [
    "# 3. Exploratory Data Analysis <a id=\"exploratory-data-analysis\"></a>\n",
    "---"
   ]
  },
  {
   "cell_type": "markdown",
   "id": "34d5da32-69fd-4a34-81bb-6e9337826e7f",
   "metadata": {
    "jp-MarkdownHeadingCollapsed": true
   },
   "source": [
    "## 3.1 Descriptive Statistics <a id=\"descriptive-statistics\"></a>\n",
    "---"
   ]
  },
  {
   "cell_type": "markdown",
   "id": "0a8a914d-0e81-4c11-8af5-c3fa3e92351a",
   "metadata": {},
   "source": [
    "## 3.2 Data Visualization <a id=\"data-visualization\"></a>\n",
    "---"
   ]
  },
  {
   "cell_type": "markdown",
   "id": "6cbd3c27-1e6c-4c9b-9bca-6029b5d6d8df",
   "metadata": {},
   "source": [
    "### 3.2.1 About Number of Rides <a id=\"about-number-of-rides\"></a>\n",
    "---"
   ]
  },
  {
   "cell_type": "markdown",
   "id": "29194674-17ac-47f9-8161-a0762185fcd5",
   "metadata": {},
   "source": [
    "#### A. Pie Chart: Number of Rides (Members vs Casuals)"
   ]
  },
  {
   "cell_type": "markdown",
   "id": "dadfad7c-8d45-4888-8472-955127b0d46c",
   "metadata": {},
   "source": [
    "#### B. Weekly Ride Distribution (Members vs Casuals)"
   ]
  },
  {
   "cell_type": "markdown",
   "id": "8daa6f56-6244-4cb0-be62-a267a4479a46",
   "metadata": {},
   "source": [
    "#### C. Monthly Ride Distribution (Members vs Casuals)"
   ]
  },
  {
   "cell_type": "markdown",
   "id": "3cf16415-66ec-44b1-9da6-39418cf9fbdb",
   "metadata": {},
   "source": [
    "### 3.2.2 About Ride Duration <a id=\"about-ride-duration\"></a>\n",
    "---"
   ]
  },
  {
   "cell_type": "markdown",
   "id": "cfc55c3c-f50c-460e-9823-3240f43da5b1",
   "metadata": {},
   "source": [
    "#### A. Weekly Ride Duration (Members vs Casuals)"
   ]
  },
  {
   "cell_type": "markdown",
   "id": "de28e7b0-5e7c-43e0-928c-a6d1d9641d9a",
   "metadata": {},
   "source": [
    "#### B. Monthly Ride Duration (Members vs Casuals)"
   ]
  },
  {
   "cell_type": "markdown",
   "id": "847f8c42-50a0-43e3-9659-d3789ef00250",
   "metadata": {},
   "source": [
    "### 3.2.3 About Rideable Type <a id=\"about-rideable-type\"></a>\n",
    "---"
   ]
  },
  {
   "cell_type": "markdown",
   "id": "46dfd556-bb65-420f-91cf-06535826592f",
   "metadata": {},
   "source": [
    "#### A. Bar Chart: Rideable Type (Electric vs Classic Bikes)"
   ]
  },
  {
   "cell_type": "markdown",
   "id": "2a3fe9b8-a627-49a9-b211-e34ac4ef7bb1",
   "metadata": {},
   "source": [
    "#### B. Stacked Bar Chart: Rideable Types for Members vs Casuals"
   ]
  },
  {
   "cell_type": "code",
   "execution_count": 2,
   "id": "ae42519f-6bf8-43b4-8fba-b85b67b830da",
   "metadata": {},
   "outputs": [],
   "source": [
    "import os # for file directories\n",
    "import numpy as np \n",
    "import pandas as pd"
   ]
  },
  {
   "cell_type": "code",
   "execution_count": 14,
   "id": "6c0fe38c-ecfa-4bc6-821c-67b2ad5be9c3",
   "metadata": {},
   "outputs": [],
   "source": [
    "# Directory containing the CSV files\n",
    "directory = r'C:\\0.Sync\\Coding\\Data\\Projects\\CyclisticBike-Share'\n",
    "\n",
    "# List all files in the directory, then pick only .csv files\n",
    "files = os.listdir(directory)\n",
    "csv_files = [file for file in files if file.endswith('.csv')]\n",
    "\n",
    "# Create empty list to store DataFrames\n",
    "dfs = []\n",
    "\n",
    "# Iterate over each CSV file and read it into a DataFrame\n",
    "for file in csv_files:\n",
    "    file_path = os.path.join(directory, file)\n",
    "    df_next = pd.read_csv(file_path)\n",
    "    dfs.append(df_next)\n",
    "\n",
    "# Concatenate all DataFrames into a single DataFrame\n",
    "df = pd.concat(dfs, ignore_index=True)\n",
    "\n",
    "# Now combined_df contains all the data from all CSV files in the directory\n"
   ]
  },
  {
   "cell_type": "code",
   "execution_count": 7,
   "id": "6d415a6d-ef7f-4867-b743-84de78948da0",
   "metadata": {},
   "outputs": [
    {
     "name": "stdout",
     "output_type": "stream",
     "text": [
      "['start_station_name', 'start_station_id', 'end_station_name', 'end_station_id', 'end_lat', 'end_lng']\n"
     ]
    }
   ],
   "source": [
    "columns_with_missing_values = df.columns[df.isna().any()].tolist()\n",
    "\n",
    "# Print the columns with missing values\n",
    "print(columns_with_missing_values)"
   ]
  },
  {
   "cell_type": "code",
   "execution_count": 8,
   "id": "5acc0860-5e5e-4ee6-b1f7-1754786123ee",
   "metadata": {},
   "outputs": [
    {
     "name": "stdout",
     "output_type": "stream",
     "text": [
      "start_station_name    875716\n",
      "start_station_id      875848\n",
      "end_station_name      929202\n",
      "end_station_id        929343\n",
      "end_lat                 6990\n",
      "end_lng                 6990\n",
      "dtype: int64\n"
     ]
    }
   ],
   "source": [
    "import pandas as pd\n",
    "\n",
    "# Assuming df is your DataFrame\n",
    "# Check for missing values in each column\n",
    "missing_values_counts = df.isna().sum()\n",
    "\n",
    "# Filter out columns with missing values\n",
    "columns_with_missing_values = missing_values_counts[missing_values_counts > 0]\n",
    "\n",
    "# Print the counts of missing values for each column\n",
    "print(columns_with_missing_values)"
   ]
  },
  {
   "cell_type": "code",
   "execution_count": null,
   "id": "019d207d-1fd2-472d-aa68-91df6529b7c9",
   "metadata": {},
   "outputs": [],
   "source": []
  }
 ],
 "metadata": {
  "kernelspec": {
   "display_name": "Python 3 (ipykernel)",
   "language": "python",
   "name": "python3"
  },
  "language_info": {
   "codemirror_mode": {
    "name": "ipython",
    "version": 3
   },
   "file_extension": ".py",
   "mimetype": "text/x-python",
   "name": "python",
   "nbconvert_exporter": "python",
   "pygments_lexer": "ipython3",
   "version": "3.12.3"
  }
 },
 "nbformat": 4,
 "nbformat_minor": 5
}
